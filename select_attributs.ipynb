{
 "cells": [
  {
   "cell_type": "code",
   "execution_count": null,
   "metadata": {},
   "outputs": [],
   "source": [
    "%pip install scikit-learn"
   ]
  },
  {
   "cell_type": "code",
   "execution_count": null,
   "metadata": {},
   "outputs": [],
   "source": [
    "# importation des datasets\n",
    "from sklearn.datasets import load_iris\n",
    "from sklearn.datasets import load_breast_cancer\n",
    "\n",
    "# à enlever car la target de diabetes n'est pas bien définie\n",
    "#from sklearn.datasets import load_diabetes"
   ]
  },
  {
   "cell_type": "code",
   "execution_count": null,
   "metadata": {},
   "outputs": [],
   "source": [
    "from jmetal.core.problem import BinaryProblem\n",
    "from jmetal.core.solution import BinarySolution\n",
    "# import des librairie metals\n",
    "from jmetal.algorithm.singleobjective.local_search \\\n",
    "import LocalSearch\n",
    "from jmetal.operator import BitFlipMutation\n",
    "\n",
    "#from jmetal.util.observer import ProgressBarObserver\n",
    "from jmetal.util.observer import PrintObjectivesObserver\n",
    "from jmetal.util.termination_criterion \\\n",
    "import StoppingByEvaluations\n",
    "\n",
    "# Importez le problème OneMax inclu\n",
    "from jmetal.problem import OneMax\n",
    "import pandas as pd\n",
    "import time as tm\n",
    "import random\n",
    "\n",
    "from sklearn.model_selection import train_test_split\n",
    "from sklearn.svm import SVC\n",
    "from sklearn.neighbors import KNeighborsClassifier"
   ]
  },
  {
   "cell_type": "code",
   "execution_count": 60,
   "metadata": {},
   "outputs": [],
   "source": [
    "class SA(OneMax):\n",
    "    def __init__(self, dataset: pd.DataFrame, classification_algorithm: str, select_features: bool):\n",
    "        super(OneMax, self).__init__()\n",
    "        self.number_of_bits = dataset.data.shape[1]\n",
    "        self.number_of_objectives = 1\n",
    "        self.number_of_variables = 1\n",
    "        self.number_of_constraints = 0\n",
    "        self.dataset = dataset\n",
    "        self.obj_directions = [self.MINIMIZE]\n",
    "        self.obj_labels = ['SA']\n",
    "        self.classification_algorithm = classification_algorithm\n",
    "        self.select_features = select_features\n",
    "\n",
    "    def create_solution(self) -> BinarySolution:\n",
    "      \"\"\"\n",
    "      Crée une solution binaire aléatoire\n",
    "      On va prendre un vecteur de taille number_of_bits\n",
    "      et chaque élément du vecteur sera soit 0 soit 1\n",
    "      à 0 ça veut dire que l'attribut correspondant n'est pas sélectionné\n",
    "      et à 1 ça veut dire que l'attribut correspondant est sélectionné\n",
    "      \"\"\"\n",
    "      new_solution = BinarySolution(number_of_variables=self.number_of_variables,\n",
    "                                    number_of_objectives=self.number_of_objectives,\n",
    "                                    number_of_constraints=self.number_of_constraints)\n",
    "      if self.select_features:\n",
    "        new_solution.variables[0] = [random.randint(0, 1) for _ in range(self.number_of_bits)]\n",
    "        random_idx = random.randint(0, self.number_of_bits-1)\n",
    "        new_solution.variables[0][random_idx] = 1\n",
    "      else:\n",
    "        new_solution.variables[0] = [1 for _ in range(self.number_of_bits)]\n",
    "      return new_solution\n",
    "\n",
    "  \n",
    "    def evaluate(self, solution: BinarySolution) -> BinarySolution:\n",
    "        \"\"\"\n",
    "        Évalue la solution avec les algos knn et renvoie un score par rapport \n",
    "        au score de classification de l'algo knn\n",
    "        \"\"\"\n",
    "        # On récupère les attributs sélectionnés\n",
    "        selected_features = [i for i in range(self.number_of_bits) if solution.variables[0][i] == 1]\n",
    "        # On récupère les colonnes correspondantes dans le dataset\n",
    "        df = pd.DataFrame(self.dataset.data, columns=self.dataset.feature_names)\n",
    "        df['target'] = self.dataset.target\n",
    "        x = df.iloc[:, selected_features]\n",
    "        y = df.iloc[:, df.columns.get_loc('target')] \n",
    "        # On divise le dataset en ensemble d'entrainement et ensemble de test   \n",
    "        # 70% pour l'entrainement et 30% pour le test\n",
    "        x_train, x_test, y_train, y_test = train_test_split(x, y, test_size=0.3)\n",
    "        # On entraine le modèle\n",
    "        if self.classification_algorithm == 'KNN':\n",
    "            model = KNeighborsClassifier(n_neighbors=self.number_of_bits+1)\n",
    "        elif self.classification_algorithm == 'SVM':\n",
    "            model = SVC()\n",
    "        model.fit(x_train, y_train)\n",
    "        # On prédit les résultats\n",
    "        y_pred = model.predict(x_test)\n",
    "        # On renvoie le score de classification\n",
    "        solution.objectives[0] = model.score(x_test, y_test)\n",
    "        return solution\n",
    "\n",
    "\n",
    "    def get_name(self) -> str:\n",
    "        return 'SA'\n",
    "        "
   ]
  },
  {
   "cell_type": "code",
   "execution_count": 61,
   "metadata": {},
   "outputs": [],
   "source": [
    "# il faudra faire un svm et knn sans sa et voir la différence\n",
    "\n",
    "\n",
    "from jmetal.algorithm.singleobjective.genetic_algorithm \\\n",
    "import GeneticAlgorithm\n",
    "from jmetal.operator import BitFlipMutation, SPXCrossover\n",
    "from jmetal.problem import OneMax\n",
    "from jmetal.util.termination_criterion import StoppingByEvaluations\n",
    "\n",
    "\n",
    "def run_genetic_algorithm(population_size, offspring_population_size, \n",
    "                          mutation_rate, crossover_rate, dataset, classification_algorithm,\n",
    "                          select_features,\n",
    "                          max_evaluations=5000):\n",
    "    \"\"\"\n",
    "    Runs a genetic algorithm to solve the SA problem.\n",
    "\n",
    "    Args:\n",
    "        population_size (int): The size of the initial population.\n",
    "        offspring_population_size (int): The size of the offspring \n",
    "        population.\n",
    "        mutation_rate (float): The probability of mutation for each \n",
    "        bit in the population.\n",
    "        crossover_rate (float): The probability of crossover between two \n",
    "        individuals in the population.\n",
    "        max_evaluations (int, optional): The maximum number of evaluations allowed. \n",
    "        Defaults to 5000.\n",
    "        dataset (pd.DataFrame): The dataset to use for the SA problem.\n",
    "\n",
    "    Returns:\n",
    "        int: The fitness value of the best solution found by the genetic algorithm.\n",
    "    \"\"\"\n",
    "\n",
    "    problem = SA(dataset, classification_algorithm, select_features)\n",
    "    algorithm = GeneticAlgorithm(\n",
    "        problem=problem,\n",
    "        population_size=population_size,\n",
    "        offspring_population_size=offspring_population_size,\n",
    "        mutation=BitFlipMutation(mutation_rate / problem.number_of_bits),\n",
    "        crossover=SPXCrossover(crossover_rate),\n",
    "        termination_criterion=StoppingByEvaluations(max_evaluations=max_evaluations),\n",
    "    )\n",
    "\n",
    "\n",
    "    algorithm.observable.register(observer=PrintObjectivesObserver(100))\n",
    "\n",
    "    # Exécutez l'algorithme de recherche locale\n",
    "    algorithm.run()\n",
    "    result = algorithm.get_result()\n",
    "\n",
    "    print(\"Algorithm: Genetic Algorithm\")  \n",
    "    print(\"Problem SA\")\n",
    "    print(\"Solution: \" + result.get_binary_string())\n",
    "    print(\"Fitness:  \" + str(result.objectives[0]))\n",
    "    print(\"Computing time: \" + str(algorithm.total_computing_time))\n",
    "\n",
    "    return abs(int(result.objectives[0]))\n",
    "\n",
    "    \n",
    "\n",
    "\n"
   ]
  },
  {
   "cell_type": "code",
   "execution_count": 57,
   "metadata": {},
   "outputs": [],
   "source": [
    "def train(problem_function, problem_function_params, nb_runs=20):\n",
    "  \"\"\"\n",
    "  Trains a problem function by running it multiple times \n",
    "  and collecting fitness results and running times.\n",
    "\n",
    "  Parameters:\n",
    "  problem_function (callable): The problem function to be trained.\n",
    "  problem_function_params (dict): The parameters to be passed \n",
    "  to the problem function.\n",
    "  nb_runs (int, optional): The number of times to run the problem function. \n",
    "  Defaults to 20.\n",
    "\n",
    "  Returns:\n",
    "  pd.Series: A series containing the fitness results of each run.\n",
    "  pd.Series: A series containing the running times of each run.\n",
    "  \"\"\"\n",
    "  fitnesses = []\n",
    "  running_times = []\n",
    "\n",
    "  for _ in range(nb_runs):\n",
    "    start_time = tm.time()\n",
    "    fitness_result = problem_function(**problem_function_params)\n",
    "    execution_time = tm.time() - start_time\n",
    "\n",
    "    fitnesses.append(fitness_result)\n",
    "    running_times.append(execution_time)\n",
    "\n",
    "  return pd.Series(fitnesses), pd.Series(running_times)"
   ]
  },
  {
   "cell_type": "code",
   "execution_count": 64,
   "metadata": {},
   "outputs": [
    {
     "name": "stderr",
     "output_type": "stream",
     "text": [
      "[2024-02-20 10:15:40,380] [jmetal.core.algorithm] [DEBUG] Creating initial set of solutions...\n",
      "[2024-02-20 10:15:40,381] [jmetal.core.algorithm] [DEBUG] Evaluating solutions...\n",
      "[2024-02-20 10:15:40,434] [jmetal.core.algorithm] [DEBUG] Initializing progress...\n",
      "[2024-02-20 10:15:40,439] [jmetal.core.algorithm] [DEBUG] Running main loop until termination criteria is met\n",
      "[2024-02-20 10:15:40,442] [jmetal.core.algorithm] [DEBUG] Finished!\n",
      "[2024-02-20 10:15:40,445] [jmetal.core.algorithm] [DEBUG] Creating initial set of solutions...\n",
      "[2024-02-20 10:15:40,446] [jmetal.core.algorithm] [DEBUG] Evaluating solutions...\n",
      "[2024-02-20 10:15:40,505] [jmetal.core.algorithm] [DEBUG] Initializing progress...\n",
      "[2024-02-20 10:15:40,506] [jmetal.core.algorithm] [DEBUG] Running main loop until termination criteria is met\n",
      "[2024-02-20 10:15:40,507] [jmetal.core.algorithm] [DEBUG] Finished!\n",
      "[2024-02-20 10:15:40,508] [jmetal.core.algorithm] [DEBUG] Creating initial set of solutions...\n",
      "[2024-02-20 10:15:40,508] [jmetal.core.algorithm] [DEBUG] Evaluating solutions...\n",
      "[2024-02-20 10:15:40,549] [jmetal.core.algorithm] [DEBUG] Initializing progress...\n",
      "[2024-02-20 10:15:40,549] [jmetal.core.algorithm] [DEBUG] Running main loop until termination criteria is met\n",
      "[2024-02-20 10:15:40,550] [jmetal.core.algorithm] [DEBUG] Finished!\n",
      "[2024-02-20 10:15:40,550] [jmetal.core.algorithm] [DEBUG] Creating initial set of solutions...\n",
      "[2024-02-20 10:15:40,550] [jmetal.core.algorithm] [DEBUG] Evaluating solutions...\n",
      "[2024-02-20 10:15:40,581] [jmetal.core.algorithm] [DEBUG] Initializing progress...\n",
      "[2024-02-20 10:15:40,581] [jmetal.core.algorithm] [DEBUG] Running main loop until termination criteria is met\n",
      "[2024-02-20 10:15:40,581] [jmetal.core.algorithm] [DEBUG] Finished!\n",
      "[2024-02-20 10:15:40,582] [jmetal.core.algorithm] [DEBUG] Creating initial set of solutions...\n",
      "[2024-02-20 10:15:40,582] [jmetal.core.algorithm] [DEBUG] Evaluating solutions...\n",
      "[2024-02-20 10:15:40,613] [jmetal.core.algorithm] [DEBUG] Initializing progress...\n",
      "[2024-02-20 10:15:40,614] [jmetal.core.algorithm] [DEBUG] Running main loop until termination criteria is met\n",
      "[2024-02-20 10:15:40,614] [jmetal.core.algorithm] [DEBUG] Finished!\n"
     ]
    },
    {
     "name": "stdout",
     "output_type": "stream",
     "text": [
      "Algorithm: Genetic Algorithm\n",
      "Problem SA\n",
      "Solution: 0011\n",
      "Fitness:  0.9555555555555556\n",
      "Computing time: 0.06445121765136719\n",
      "Algorithm: Genetic Algorithm\n",
      "Problem SA\n",
      "Solution: 0110\n",
      "Fitness:  0.9777777777777777\n",
      "Computing time: 0.06255698204040527\n",
      "Algorithm: Genetic Algorithm\n",
      "Problem SA\n",
      "Solution: 0100\n",
      "Fitness:  0.4444444444444444\n",
      "Computing time: 0.04237008094787598\n",
      "Algorithm: Genetic Algorithm\n",
      "Problem SA\n",
      "Solution: 0011\n",
      "Fitness:  0.9555555555555556\n",
      "Computing time: 0.03146719932556152\n",
      "Algorithm: Genetic Algorithm\n",
      "Problem SA\n",
      "Solution: 0100\n",
      "Fitness:  0.4666666666666667\n",
      "Computing time: 0.03271317481994629\n"
     ]
    }
   ],
   "source": [
    "dataset = load_iris()\n",
    "classification_algorithm = 'SVM'\n",
    "select_features = True\n",
    "SAProblem_params_optimal_ag = {\n",
    "         \"population_size\" : 10\n",
    "        ,\"offspring_population_size\" : 10\n",
    "        ,\"mutation_rate\" : 0.4\n",
    "        ,\"crossover_rate\" : 1\n",
    "        ,\"dataset\" : dataset\n",
    "        ,\"classification_algorithm\" : classification_algorithm\n",
    "        ,\"select_features\" : select_features\n",
    "        , \"max_evaluations\":10\n",
    "    }\n",
    "\n",
    "fitnesses, running_times = train(problem_function=run_genetic_algorithm,\n",
    "                                 problem_function_params=SAProblem_params_optimal_ag, nb_runs=5)"
   ]
  },
  {
   "cell_type": "code",
   "execution_count": 65,
   "metadata": {},
   "outputs": [
    {
     "name": "stderr",
     "output_type": "stream",
     "text": [
      "[2024-02-20 10:16:17,534] [jmetal.core.algorithm] [DEBUG] Creating initial set of solutions...\n",
      "[2024-02-20 10:16:17,535] [jmetal.core.algorithm] [DEBUG] Evaluating solutions...\n",
      "[2024-02-20 10:16:17,586] [jmetal.core.algorithm] [DEBUG] Initializing progress...\n",
      "[2024-02-20 10:16:17,587] [jmetal.core.algorithm] [DEBUG] Running main loop until termination criteria is met\n",
      "[2024-02-20 10:16:17,587] [jmetal.core.algorithm] [DEBUG] Finished!\n",
      "[2024-02-20 10:16:17,588] [jmetal.core.algorithm] [DEBUG] Creating initial set of solutions...\n",
      "[2024-02-20 10:16:17,588] [jmetal.core.algorithm] [DEBUG] Evaluating solutions...\n",
      "[2024-02-20 10:16:17,622] [jmetal.core.algorithm] [DEBUG] Initializing progress...\n",
      "[2024-02-20 10:16:17,622] [jmetal.core.algorithm] [DEBUG] Running main loop until termination criteria is met\n",
      "[2024-02-20 10:16:17,622] [jmetal.core.algorithm] [DEBUG] Finished!\n",
      "[2024-02-20 10:16:17,623] [jmetal.core.algorithm] [DEBUG] Creating initial set of solutions...\n",
      "[2024-02-20 10:16:17,623] [jmetal.core.algorithm] [DEBUG] Evaluating solutions...\n",
      "[2024-02-20 10:16:17,661] [jmetal.core.algorithm] [DEBUG] Initializing progress...\n",
      "[2024-02-20 10:16:17,663] [jmetal.core.algorithm] [DEBUG] Running main loop until termination criteria is met\n",
      "[2024-02-20 10:16:17,665] [jmetal.core.algorithm] [DEBUG] Finished!\n",
      "[2024-02-20 10:16:17,672] [jmetal.core.algorithm] [DEBUG] Creating initial set of solutions...\n",
      "[2024-02-20 10:16:17,677] [jmetal.core.algorithm] [DEBUG] Evaluating solutions...\n",
      "[2024-02-20 10:16:17,734] [jmetal.core.algorithm] [DEBUG] Initializing progress...\n",
      "[2024-02-20 10:16:17,735] [jmetal.core.algorithm] [DEBUG] Running main loop until termination criteria is met\n",
      "[2024-02-20 10:16:17,735] [jmetal.core.algorithm] [DEBUG] Finished!\n",
      "[2024-02-20 10:16:17,736] [jmetal.core.algorithm] [DEBUG] Creating initial set of solutions...\n",
      "[2024-02-20 10:16:17,736] [jmetal.core.algorithm] [DEBUG] Evaluating solutions...\n",
      "[2024-02-20 10:16:17,766] [jmetal.core.algorithm] [DEBUG] Initializing progress...\n",
      "[2024-02-20 10:16:17,767] [jmetal.core.algorithm] [DEBUG] Running main loop until termination criteria is met\n",
      "[2024-02-20 10:16:17,767] [jmetal.core.algorithm] [DEBUG] Finished!\n"
     ]
    },
    {
     "name": "stdout",
     "output_type": "stream",
     "text": [
      "Algorithm: Genetic Algorithm\n",
      "Problem SA\n",
      "Solution: 1111\n",
      "Fitness:  1.0\n",
      "Computing time: 0.0535428524017334\n",
      "Algorithm: Genetic Algorithm\n",
      "Problem SA\n",
      "Solution: 1111\n",
      "Fitness:  1.0\n",
      "Computing time: 0.03523731231689453\n",
      "Algorithm: Genetic Algorithm\n",
      "Problem SA\n",
      "Solution: 1111\n",
      "Fitness:  1.0\n",
      "Computing time: 0.04864788055419922\n",
      "Algorithm: Genetic Algorithm\n",
      "Problem SA\n",
      "Solution: 1111\n",
      "Fitness:  0.9555555555555556\n",
      "Computing time: 0.06368899345397949\n",
      "Algorithm: Genetic Algorithm\n",
      "Problem SA\n",
      "Solution: 1111\n",
      "Fitness:  0.9111111111111111\n",
      "Computing time: 0.03188896179199219\n"
     ]
    }
   ],
   "source": [
    "dataset = load_iris()\n",
    "classification_algorithm = 'SVM'\n",
    "select_features = False\n",
    "SAProblem_params_optimal_ag = {\n",
    "         \"population_size\" : 10\n",
    "        ,\"offspring_population_size\" : 10\n",
    "        ,\"mutation_rate\" : 0.4\n",
    "        ,\"crossover_rate\" : 1\n",
    "        ,\"dataset\" : dataset\n",
    "        ,\"classification_algorithm\" : classification_algorithm\n",
    "        ,\"select_features\" : select_features\n",
    "        , \"max_evaluations\":10\n",
    "    }\n",
    "\n",
    "fitnesses, running_times = train(problem_function=run_genetic_algorithm,\n",
    "                                 problem_function_params=SAProblem_params_optimal_ag, nb_runs=5)"
   ]
  },
  {
   "cell_type": "code",
   "execution_count": 67,
   "metadata": {},
   "outputs": [
    {
     "name": "stderr",
     "output_type": "stream",
     "text": [
      "[2024-02-20 10:18:01,068] [jmetal.core.algorithm] [DEBUG] Creating initial set of solutions...\n",
      "[2024-02-20 10:18:01,069] [jmetal.core.algorithm] [DEBUG] Evaluating solutions...\n",
      "[2024-02-20 10:18:01,151] [jmetal.core.algorithm] [DEBUG] Initializing progress...\n",
      "[2024-02-20 10:18:01,152] [jmetal.core.algorithm] [DEBUG] Running main loop until termination criteria is met\n",
      "[2024-02-20 10:18:01,152] [jmetal.core.algorithm] [DEBUG] Finished!\n",
      "[2024-02-20 10:18:01,152] [jmetal.core.algorithm] [DEBUG] Creating initial set of solutions...\n",
      "[2024-02-20 10:18:01,153] [jmetal.core.algorithm] [DEBUG] Evaluating solutions...\n",
      "[2024-02-20 10:18:01,214] [jmetal.core.algorithm] [DEBUG] Initializing progress...\n",
      "[2024-02-20 10:18:01,215] [jmetal.core.algorithm] [DEBUG] Running main loop until termination criteria is met\n",
      "[2024-02-20 10:18:01,215] [jmetal.core.algorithm] [DEBUG] Finished!\n",
      "[2024-02-20 10:18:01,215] [jmetal.core.algorithm] [DEBUG] Creating initial set of solutions...\n",
      "[2024-02-20 10:18:01,216] [jmetal.core.algorithm] [DEBUG] Evaluating solutions...\n",
      "[2024-02-20 10:18:01,277] [jmetal.core.algorithm] [DEBUG] Initializing progress...\n",
      "[2024-02-20 10:18:01,277] [jmetal.core.algorithm] [DEBUG] Running main loop until termination criteria is met\n",
      "[2024-02-20 10:18:01,277] [jmetal.core.algorithm] [DEBUG] Finished!\n",
      "[2024-02-20 10:18:01,277] [jmetal.core.algorithm] [DEBUG] Creating initial set of solutions...\n",
      "[2024-02-20 10:18:01,278] [jmetal.core.algorithm] [DEBUG] Evaluating solutions...\n"
     ]
    },
    {
     "name": "stdout",
     "output_type": "stream",
     "text": [
      "Algorithm: Genetic Algorithm\n",
      "Problem SA\n",
      "Solution: 1110\n",
      "Fitness:  0.9333333333333333\n",
      "Computing time: 0.08406591415405273\n",
      "Algorithm: Genetic Algorithm\n",
      "Problem SA\n",
      "Solution: 0111\n",
      "Fitness:  1.0\n",
      "Computing time: 0.0629880428314209\n",
      "Algorithm: Genetic Algorithm\n",
      "Problem SA\n",
      "Solution: 1111\n",
      "Fitness:  0.9777777777777777\n",
      "Computing time: 0.06194496154785156\n"
     ]
    },
    {
     "name": "stderr",
     "output_type": "stream",
     "text": [
      "[2024-02-20 10:18:01,372] [jmetal.core.algorithm] [DEBUG] Initializing progress...\n",
      "[2024-02-20 10:18:01,373] [jmetal.core.algorithm] [DEBUG] Running main loop until termination criteria is met\n",
      "[2024-02-20 10:18:01,373] [jmetal.core.algorithm] [DEBUG] Finished!\n",
      "[2024-02-20 10:18:01,374] [jmetal.core.algorithm] [DEBUG] Creating initial set of solutions...\n",
      "[2024-02-20 10:18:01,374] [jmetal.core.algorithm] [DEBUG] Evaluating solutions...\n",
      "[2024-02-20 10:18:01,445] [jmetal.core.algorithm] [DEBUG] Initializing progress...\n",
      "[2024-02-20 10:18:01,446] [jmetal.core.algorithm] [DEBUG] Running main loop until termination criteria is met\n",
      "[2024-02-20 10:18:01,446] [jmetal.core.algorithm] [DEBUG] Finished!\n"
     ]
    },
    {
     "name": "stdout",
     "output_type": "stream",
     "text": [
      "Algorithm: Genetic Algorithm\n",
      "Problem SA\n",
      "Solution: 0011\n",
      "Fitness:  0.9777777777777777\n",
      "Computing time: 0.09616994857788086\n",
      "Algorithm: Genetic Algorithm\n",
      "Problem SA\n",
      "Solution: 0110\n",
      "Fitness:  0.9333333333333333\n",
      "Computing time: 0.07240009307861328\n"
     ]
    }
   ],
   "source": [
    "dataset = load_iris()\n",
    "classification_algorithm = 'KNN'\n",
    "select_features = True\n",
    "SAProblem_params_optimal_ag = {\n",
    "         \"population_size\" : 10\n",
    "        ,\"offspring_population_size\" : 10\n",
    "        ,\"mutation_rate\" : 0.4\n",
    "        ,\"crossover_rate\" : 1\n",
    "        ,\"dataset\" : dataset\n",
    "        , \"select_features\" : select_features\n",
    "        ,\"classification_algorithm\" : classification_algorithm\n",
    "        , \"max_evaluations\":10\n",
    "    }\n",
    "\n",
    "fitnesses, running_times = train(problem_function=run_genetic_algorithm,\n",
    "                                 problem_function_params=SAProblem_params_optimal_ag, nb_runs=5)"
   ]
  },
  {
   "cell_type": "code",
   "execution_count": 71,
   "metadata": {},
   "outputs": [
    {
     "name": "stderr",
     "output_type": "stream",
     "text": [
      "[2024-02-20 10:20:00,791] [jmetal.core.algorithm] [DEBUG] Creating initial set of solutions...\n",
      "[2024-02-20 10:20:00,792] [jmetal.core.algorithm] [DEBUG] Evaluating solutions...\n"
     ]
    },
    {
     "name": "stderr",
     "output_type": "stream",
     "text": [
      "[2024-02-20 10:20:00,955] [jmetal.core.algorithm] [DEBUG] Initializing progress...\n",
      "[2024-02-20 10:20:00,956] [jmetal.core.algorithm] [DEBUG] Running main loop until termination criteria is met\n",
      "[2024-02-20 10:20:00,957] [jmetal.core.algorithm] [DEBUG] Finished!\n",
      "[2024-02-20 10:20:00,957] [jmetal.core.algorithm] [DEBUG] Creating initial set of solutions...\n",
      "[2024-02-20 10:20:00,958] [jmetal.core.algorithm] [DEBUG] Evaluating solutions...\n",
      "[2024-02-20 10:20:01,107] [jmetal.core.algorithm] [DEBUG] Initializing progress...\n",
      "[2024-02-20 10:20:01,108] [jmetal.core.algorithm] [DEBUG] Running main loop until termination criteria is met\n",
      "[2024-02-20 10:20:01,109] [jmetal.core.algorithm] [DEBUG] Finished!\n",
      "[2024-02-20 10:20:01,109] [jmetal.core.algorithm] [DEBUG] Creating initial set of solutions...\n",
      "[2024-02-20 10:20:01,109] [jmetal.core.algorithm] [DEBUG] Evaluating solutions...\n"
     ]
    },
    {
     "name": "stdout",
     "output_type": "stream",
     "text": [
      "Algorithm: Genetic Algorithm\n",
      "Problem SA\n",
      "Solution: 010101000011011011010101001111\n",
      "Fitness:  0.9122807017543859\n",
      "Computing time: 0.16634297370910645\n",
      "Algorithm: Genetic Algorithm\n",
      "Problem SA\n",
      "Solution: 011111101111101110111000000101\n",
      "Fitness:  0.8713450292397661\n",
      "Computing time: 0.15163588523864746\n"
     ]
    },
    {
     "name": "stderr",
     "output_type": "stream",
     "text": [
      "[2024-02-20 10:20:01,265] [jmetal.core.algorithm] [DEBUG] Initializing progress...\n",
      "[2024-02-20 10:20:01,266] [jmetal.core.algorithm] [DEBUG] Running main loop until termination criteria is met\n",
      "[2024-02-20 10:20:01,267] [jmetal.core.algorithm] [DEBUG] Finished!\n",
      "[2024-02-20 10:20:01,267] [jmetal.core.algorithm] [DEBUG] Creating initial set of solutions...\n",
      "[2024-02-20 10:20:01,268] [jmetal.core.algorithm] [DEBUG] Evaluating solutions...\n",
      "[2024-02-20 10:20:01,419] [jmetal.core.algorithm] [DEBUG] Initializing progress...\n",
      "[2024-02-20 10:20:01,420] [jmetal.core.algorithm] [DEBUG] Running main loop until termination criteria is met\n",
      "[2024-02-20 10:20:01,420] [jmetal.core.algorithm] [DEBUG] Finished!\n",
      "[2024-02-20 10:20:01,421] [jmetal.core.algorithm] [DEBUG] Creating initial set of solutions...\n",
      "[2024-02-20 10:20:01,421] [jmetal.core.algorithm] [DEBUG] Evaluating solutions...\n"
     ]
    },
    {
     "name": "stdout",
     "output_type": "stream",
     "text": [
      "Algorithm: Genetic Algorithm\n",
      "Problem SA\n",
      "Solution: 000000110000011101111110100100\n",
      "Fitness:  0.9239766081871345\n",
      "Computing time: 0.1580967903137207\n",
      "Algorithm: Genetic Algorithm\n",
      "Problem SA\n",
      "Solution: 111000000000111100000101101110\n",
      "Fitness:  0.9298245614035088\n",
      "Computing time: 0.1534111499786377\n"
     ]
    },
    {
     "name": "stderr",
     "output_type": "stream",
     "text": [
      "[2024-02-20 10:20:01,615] [jmetal.core.algorithm] [DEBUG] Initializing progress...\n",
      "[2024-02-20 10:20:01,616] [jmetal.core.algorithm] [DEBUG] Running main loop until termination criteria is met\n",
      "[2024-02-20 10:20:01,616] [jmetal.core.algorithm] [DEBUG] Finished!\n",
      "[2024-02-20 10:20:01,617] [jmetal.core.algorithm] [DEBUG] Creating initial set of solutions...\n",
      "[2024-02-20 10:20:01,618] [jmetal.core.algorithm] [DEBUG] Evaluating solutions...\n",
      "[2024-02-20 10:20:01,770] [jmetal.core.algorithm] [DEBUG] Initializing progress...\n",
      "[2024-02-20 10:20:01,770] [jmetal.core.algorithm] [DEBUG] Running main loop until termination criteria is met\n",
      "[2024-02-20 10:20:01,771] [jmetal.core.algorithm] [DEBUG] Finished!\n",
      "[2024-02-20 10:20:01,771] [jmetal.core.algorithm] [DEBUG] Creating initial set of solutions...\n",
      "[2024-02-20 10:20:01,772] [jmetal.core.algorithm] [DEBUG] Evaluating solutions...\n"
     ]
    },
    {
     "name": "stdout",
     "output_type": "stream",
     "text": [
      "Algorithm: Genetic Algorithm\n",
      "Problem SA\n",
      "Solution: 011011011111111011010001011011\n",
      "Fitness:  0.9239766081871345\n",
      "Computing time: 0.19662189483642578\n",
      "Algorithm: Genetic Algorithm\n",
      "Problem SA\n",
      "Solution: 011001001111000010101111111110\n",
      "Fitness:  0.935672514619883\n",
      "Computing time: 0.15371489524841309\n"
     ]
    },
    {
     "name": "stderr",
     "output_type": "stream",
     "text": [
      "[2024-02-20 10:20:01,930] [jmetal.core.algorithm] [DEBUG] Initializing progress...\n",
      "[2024-02-20 10:20:01,930] [jmetal.core.algorithm] [DEBUG] Running main loop until termination criteria is met\n",
      "[2024-02-20 10:20:01,931] [jmetal.core.algorithm] [DEBUG] Finished!\n",
      "[2024-02-20 10:20:01,931] [jmetal.core.algorithm] [DEBUG] Creating initial set of solutions...\n",
      "[2024-02-20 10:20:01,932] [jmetal.core.algorithm] [DEBUG] Evaluating solutions...\n",
      "[2024-02-20 10:20:02,081] [jmetal.core.algorithm] [DEBUG] Initializing progress...\n",
      "[2024-02-20 10:20:02,081] [jmetal.core.algorithm] [DEBUG] Running main loop until termination criteria is met\n",
      "[2024-02-20 10:20:02,082] [jmetal.core.algorithm] [DEBUG] Finished!\n",
      "[2024-02-20 10:20:02,082] [jmetal.core.algorithm] [DEBUG] Creating initial set of solutions...\n",
      "[2024-02-20 10:20:02,083] [jmetal.core.algorithm] [DEBUG] Evaluating solutions...\n"
     ]
    },
    {
     "name": "stdout",
     "output_type": "stream",
     "text": [
      "Algorithm: Genetic Algorithm\n",
      "Problem SA\n",
      "Solution: 000110001010100101011101100010\n",
      "Fitness:  0.9005847953216374\n",
      "Computing time: 0.15972685813903809\n",
      "Algorithm: Genetic Algorithm\n",
      "Problem SA\n",
      "Solution: 101010000100111111011100110011\n",
      "Fitness:  0.9298245614035088\n",
      "Computing time: 0.15104269981384277\n"
     ]
    },
    {
     "name": "stderr",
     "output_type": "stream",
     "text": [
      "[2024-02-20 10:20:02,234] [jmetal.core.algorithm] [DEBUG] Initializing progress...\n",
      "[2024-02-20 10:20:02,235] [jmetal.core.algorithm] [DEBUG] Running main loop until termination criteria is met\n",
      "[2024-02-20 10:20:02,235] [jmetal.core.algorithm] [DEBUG] Finished!\n",
      "[2024-02-20 10:20:02,236] [jmetal.core.algorithm] [DEBUG] Creating initial set of solutions...\n",
      "[2024-02-20 10:20:02,237] [jmetal.core.algorithm] [DEBUG] Evaluating solutions...\n",
      "[2024-02-20 10:20:02,387] [jmetal.core.algorithm] [DEBUG] Initializing progress...\n",
      "[2024-02-20 10:20:02,387] [jmetal.core.algorithm] [DEBUG] Running main loop until termination criteria is met\n",
      "[2024-02-20 10:20:02,387] [jmetal.core.algorithm] [DEBUG] Finished!\n",
      "[2024-02-20 10:20:02,388] [jmetal.core.algorithm] [DEBUG] Creating initial set of solutions...\n",
      "[2024-02-20 10:20:02,388] [jmetal.core.algorithm] [DEBUG] Evaluating solutions...\n"
     ]
    },
    {
     "name": "stdout",
     "output_type": "stream",
     "text": [
      "Algorithm: Genetic Algorithm\n",
      "Problem SA\n",
      "Solution: 011101011000111111101101001101\n",
      "Fitness:  0.8947368421052632\n",
      "Computing time: 0.15353703498840332\n",
      "Algorithm: Genetic Algorithm\n",
      "Problem SA\n",
      "Solution: 001100101100001101110110010000\n",
      "Fitness:  0.8771929824561403\n",
      "Computing time: 0.1518540382385254\n"
     ]
    },
    {
     "name": "stderr",
     "output_type": "stream",
     "text": [
      "[2024-02-20 10:20:02,536] [jmetal.core.algorithm] [DEBUG] Initializing progress...\n",
      "[2024-02-20 10:20:02,537] [jmetal.core.algorithm] [DEBUG] Running main loop until termination criteria is met\n",
      "[2024-02-20 10:20:02,537] [jmetal.core.algorithm] [DEBUG] Finished!\n",
      "[2024-02-20 10:20:02,537] [jmetal.core.algorithm] [DEBUG] Creating initial set of solutions...\n",
      "[2024-02-20 10:20:02,538] [jmetal.core.algorithm] [DEBUG] Evaluating solutions...\n",
      "[2024-02-20 10:20:02,684] [jmetal.core.algorithm] [DEBUG] Initializing progress...\n",
      "[2024-02-20 10:20:02,685] [jmetal.core.algorithm] [DEBUG] Running main loop until termination criteria is met\n",
      "[2024-02-20 10:20:02,685] [jmetal.core.algorithm] [DEBUG] Finished!\n",
      "[2024-02-20 10:20:02,686] [jmetal.core.algorithm] [DEBUG] Creating initial set of solutions...\n",
      "[2024-02-20 10:20:02,686] [jmetal.core.algorithm] [DEBUG] Evaluating solutions...\n"
     ]
    },
    {
     "name": "stdout",
     "output_type": "stream",
     "text": [
      "Algorithm: Genetic Algorithm\n",
      "Problem SA\n",
      "Solution: 000101000001111000010001010101\n",
      "Fitness:  0.9298245614035088\n",
      "Computing time: 0.14941191673278809\n",
      "Algorithm: Genetic Algorithm\n",
      "Problem SA\n",
      "Solution: 011010100101101111010000111011\n",
      "Fitness:  0.9298245614035088\n",
      "Computing time: 0.14831900596618652\n"
     ]
    },
    {
     "name": "stderr",
     "output_type": "stream",
     "text": [
      "[2024-02-20 10:20:02,844] [jmetal.core.algorithm] [DEBUG] Initializing progress...\n",
      "[2024-02-20 10:20:02,845] [jmetal.core.algorithm] [DEBUG] Running main loop until termination criteria is met\n",
      "[2024-02-20 10:20:02,845] [jmetal.core.algorithm] [DEBUG] Finished!\n",
      "[2024-02-20 10:20:02,845] [jmetal.core.algorithm] [DEBUG] Creating initial set of solutions...\n",
      "[2024-02-20 10:20:02,846] [jmetal.core.algorithm] [DEBUG] Evaluating solutions...\n"
     ]
    },
    {
     "name": "stdout",
     "output_type": "stream",
     "text": [
      "Algorithm: Genetic Algorithm\n",
      "Problem SA\n",
      "Solution: 110010100001001101110010011011\n",
      "Fitness:  0.9473684210526315\n",
      "Computing time: 0.1597919464111328\n"
     ]
    },
    {
     "name": "stderr",
     "output_type": "stream",
     "text": [
      "[2024-02-20 10:20:03,079] [jmetal.core.algorithm] [DEBUG] Initializing progress...\n",
      "[2024-02-20 10:20:03,080] [jmetal.core.algorithm] [DEBUG] Running main loop until termination criteria is met\n",
      "[2024-02-20 10:20:03,080] [jmetal.core.algorithm] [DEBUG] Finished!\n",
      "[2024-02-20 10:20:03,081] [jmetal.core.algorithm] [DEBUG] Creating initial set of solutions...\n",
      "[2024-02-20 10:20:03,082] [jmetal.core.algorithm] [DEBUG] Evaluating solutions...\n",
      "[2024-02-20 10:20:03,232] [jmetal.core.algorithm] [DEBUG] Initializing progress...\n",
      "[2024-02-20 10:20:03,232] [jmetal.core.algorithm] [DEBUG] Running main loop until termination criteria is met\n",
      "[2024-02-20 10:20:03,233] [jmetal.core.algorithm] [DEBUG] Finished!\n",
      "[2024-02-20 10:20:03,233] [jmetal.core.algorithm] [DEBUG] Creating initial set of solutions...\n",
      "[2024-02-20 10:20:03,234] [jmetal.core.algorithm] [DEBUG] Evaluating solutions...\n"
     ]
    },
    {
     "name": "stdout",
     "output_type": "stream",
     "text": [
      "Algorithm: Genetic Algorithm\n",
      "Problem SA\n",
      "Solution: 100111110110110111101101100100\n",
      "Fitness:  0.8947368421052632\n",
      "Computing time: 0.2351999282836914\n",
      "Algorithm: Genetic Algorithm\n",
      "Problem SA\n",
      "Solution: 001101000111000011011101000010\n",
      "Fitness:  0.9005847953216374\n",
      "Computing time: 0.1521928310394287\n"
     ]
    },
    {
     "name": "stderr",
     "output_type": "stream",
     "text": [
      "[2024-02-20 10:20:03,381] [jmetal.core.algorithm] [DEBUG] Initializing progress...\n",
      "[2024-02-20 10:20:03,382] [jmetal.core.algorithm] [DEBUG] Running main loop until termination criteria is met\n",
      "[2024-02-20 10:20:03,382] [jmetal.core.algorithm] [DEBUG] Finished!\n",
      "[2024-02-20 10:20:03,383] [jmetal.core.algorithm] [DEBUG] Creating initial set of solutions...\n",
      "[2024-02-20 10:20:03,383] [jmetal.core.algorithm] [DEBUG] Evaluating solutions...\n",
      "[2024-02-20 10:20:03,547] [jmetal.core.algorithm] [DEBUG] Initializing progress...\n",
      "[2024-02-20 10:20:03,548] [jmetal.core.algorithm] [DEBUG] Running main loop until termination criteria is met\n",
      "[2024-02-20 10:20:03,548] [jmetal.core.algorithm] [DEBUG] Finished!\n",
      "[2024-02-20 10:20:03,549] [jmetal.core.algorithm] [DEBUG] Creating initial set of solutions...\n",
      "[2024-02-20 10:20:03,549] [jmetal.core.algorithm] [DEBUG] Evaluating solutions...\n"
     ]
    },
    {
     "name": "stdout",
     "output_type": "stream",
     "text": [
      "Algorithm: Genetic Algorithm\n",
      "Problem SA\n",
      "Solution: 011010011011000001110100110100\n",
      "Fitness:  0.9064327485380117\n",
      "Computing time: 0.14949393272399902\n",
      "Algorithm: Genetic Algorithm\n",
      "Problem SA\n",
      "Solution: 001001101001101011110001101010\n",
      "Fitness:  0.9005847953216374\n",
      "Computing time: 0.1658916473388672\n"
     ]
    },
    {
     "name": "stderr",
     "output_type": "stream",
     "text": [
      "[2024-02-20 10:20:03,697] [jmetal.core.algorithm] [DEBUG] Initializing progress...\n",
      "[2024-02-20 10:20:03,697] [jmetal.core.algorithm] [DEBUG] Running main loop until termination criteria is met\n",
      "[2024-02-20 10:20:03,698] [jmetal.core.algorithm] [DEBUG] Finished!\n",
      "[2024-02-20 10:20:03,698] [jmetal.core.algorithm] [DEBUG] Creating initial set of solutions...\n",
      "[2024-02-20 10:20:03,699] [jmetal.core.algorithm] [DEBUG] Evaluating solutions...\n",
      "[2024-02-20 10:20:03,850] [jmetal.core.algorithm] [DEBUG] Initializing progress...\n",
      "[2024-02-20 10:20:03,851] [jmetal.core.algorithm] [DEBUG] Running main loop until termination criteria is met\n",
      "[2024-02-20 10:20:03,851] [jmetal.core.algorithm] [DEBUG] Finished!\n",
      "[2024-02-20 10:20:03,852] [jmetal.core.algorithm] [DEBUG] Creating initial set of solutions...\n",
      "[2024-02-20 10:20:03,853] [jmetal.core.algorithm] [DEBUG] Evaluating solutions...\n"
     ]
    },
    {
     "name": "stdout",
     "output_type": "stream",
     "text": [
      "Algorithm: Genetic Algorithm\n",
      "Problem SA\n",
      "Solution: 100001000001000100100001001011\n",
      "Fitness:  0.935672514619883\n",
      "Computing time: 0.14937901496887207\n",
      "Algorithm: Genetic Algorithm\n",
      "Problem SA\n",
      "Solution: 111111011111010000000110110000\n",
      "Fitness:  0.8888888888888888\n",
      "Computing time: 0.15352797508239746\n"
     ]
    },
    {
     "name": "stderr",
     "output_type": "stream",
     "text": [
      "[2024-02-20 10:20:04,000] [jmetal.core.algorithm] [DEBUG] Initializing progress...\n",
      "[2024-02-20 10:20:04,000] [jmetal.core.algorithm] [DEBUG] Running main loop until termination criteria is met\n",
      "[2024-02-20 10:20:04,001] [jmetal.core.algorithm] [DEBUG] Finished!\n"
     ]
    },
    {
     "name": "stdout",
     "output_type": "stream",
     "text": [
      "Algorithm: Genetic Algorithm\n",
      "Problem SA\n",
      "Solution: 010010010111000111111101000110\n",
      "Fitness:  0.935672514619883\n",
      "Computing time: 0.14911580085754395\n"
     ]
    }
   ],
   "source": [
    "dataset = load_breast_cancer()\n",
    "classification_algorithm = 'KNN'\n",
    "select_features = True\n",
    "SAProblem_params_optimal_ag = {\n",
    "         \"population_size\" : 10\n",
    "        ,\"offspring_population_size\" : 10\n",
    "        ,\"mutation_rate\" : 0.4\n",
    "        ,\"crossover_rate\" : 1\n",
    "        ,\"dataset\" : dataset\n",
    "        , \"select_features\" : select_features\n",
    "        ,\"classification_algorithm\" : classification_algorithm\n",
    "        , \"max_evaluations\":10\n",
    "    }\n",
    "\n",
    "fitnesses, running_times = train(problem_function=run_genetic_algorithm,\n",
    "                                 problem_function_params=SAProblem_params_optimal_ag)"
   ]
  }
 ],
 "metadata": {
  "kernelspec": {
   "display_name": "base",
   "language": "python",
   "name": "python3"
  },
  "language_info": {
   "codemirror_mode": {
    "name": "ipython",
    "version": 3
   },
   "file_extension": ".py",
   "mimetype": "text/x-python",
   "name": "python",
   "nbconvert_exporter": "python",
   "pygments_lexer": "ipython3",
   "version": "3.11.7"
  }
 },
 "nbformat": 4,
 "nbformat_minor": 2
}
